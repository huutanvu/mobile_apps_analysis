{
 "cells": [
  {
   "cell_type": "markdown",
   "metadata": {},
   "source": [
    "# Project: Mobile apps analysis\n",
    "\n",
    "## Description\n",
    "\n",
    "- This project is a small project to analyze and find the insights from a dataset which gathers different apps usage from end-users and their ratings. \n",
    "- Analyzing this dataset might help the team know which apps/ app categories attract the users the most.\n",
    "\n",
    "## Dataset\n",
    "\n",
    "- There are currently more than 4 million apps in App Store and Google Play (in 2018). Thus, this is just a sample of the data.\n",
    "- Data source: \n",
    "    - [Kaggle - Google Play Store Apps](https://www.kaggle.com/lava18/google-play-store-apps/home)\n",
    "    - [Kaggle - Mobile App Store](https://www.kaggle.com/ramamet4/app-store-apple-data-set-10k-apps/home)\n",
    "- Note that these 2 datasets are not aligned.\n",
    "\n",
    "## Project folder"
   ]
  },
  {
   "cell_type": "code",
   "execution_count": 1,
   "metadata": {
    "collapsed": false
   },
   "outputs": [
    {
     "name": "stdout",
     "output_type": "stream",
     "text": [
      "AppleStore.csv\tBasic.ipynb  Basics.ipynb  googleplaystore.csv\r\n"
     ]
    }
   ],
   "source": [
    "!ls"
   ]
  },
  {
   "cell_type": "code",
   "execution_count": 2,
   "metadata": {
    "collapsed": true
   },
   "outputs": [],
   "source": [
    "import numpy as np\n",
    "import matplotlib.pyplot as plt\n",
    "\n",
    "%matplotlib inline"
   ]
  },
  {
   "cell_type": "code",
   "execution_count": 3,
   "metadata": {
    "collapsed": true
   },
   "outputs": [],
   "source": [
    "app_store = \"./AppleStore.csv\"\n",
    "google_play_store = \"./googleplaystore.csv\""
   ]
  },
  {
   "cell_type": "code",
   "execution_count": 4,
   "metadata": {
    "collapsed": false
   },
   "outputs": [],
   "source": [
    "from csv import reader\n",
    "def explore_data(file_name, header=True):\n",
    "    with open(file_name, \"r\", encoding=\"utf8\") as f:\n",
    "        data = reader(f)\n",
    "        data = list(data)\n",
    "        print(\"Sample data:\")\n",
    "        if header:\n",
    "            for i in range(len(data[0])):\n",
    "                print(\"{}: {}\".format(data[0][i], data[1][i]))\n",
    "        else:\n",
    "            print(data[1:5])\n",
    "        print(\"\\n\")\n",
    "        print(\"Number of columns: \", len(data[0]))\n",
    "        print(\"Number of rows: \", len(data[1:]))\n",
    "        return data"
   ]
  },
  {
   "cell_type": "code",
   "execution_count": 5,
   "metadata": {
    "collapsed": false,
    "scrolled": false
   },
   "outputs": [
    {
     "name": "stdout",
     "output_type": "stream",
     "text": [
      "Sample data:\n",
      ": 1\n",
      "id: 281656475\n",
      "track_name: PAC-MAN Premium\n",
      "size_bytes: 100788224\n",
      "currency: USD\n",
      "price: 3.99\n",
      "rating_count_tot: 21292\n",
      "rating_count_ver: 26\n",
      "user_rating: 4\n",
      "user_rating_ver: 4.5\n",
      "ver: 6.3.5\n",
      "cont_rating: 4+\n",
      "prime_genre: Games\n",
      "sup_devices.num: 38\n",
      "ipadSc_urls.num: 5\n",
      "lang.num: 10\n",
      "vpp_lic: 1\n",
      "\n",
      "\n",
      "Number of columns:  17\n",
      "Number of rows:  7197\n",
      "Unique apps: 7195\n"
     ]
    }
   ],
   "source": [
    "app_store_data = explore_data(app_store)\n",
    "print(\"Unique apps: {}\".format(len(np.unique([row[2] for row in app_store_data[1:]]))))"
   ]
  },
  {
   "cell_type": "markdown",
   "metadata": {
    "collapsed": false
   },
   "source": [
    "We see that the app store dataset has a total of 17 columns, and 7198 rows; each row represents one iOS app with their properties, i.e. the size, price, rating, etc."
   ]
  },
  {
   "cell_type": "code",
   "execution_count": 6,
   "metadata": {
    "collapsed": false,
    "scrolled": true
   },
   "outputs": [
    {
     "name": "stdout",
     "output_type": "stream",
     "text": [
      "Sample data:\n",
      "App: Photo Editor & Candy Camera & Grid & ScrapBook\n",
      "Category: ART_AND_DESIGN\n",
      "Rating: 4.1\n",
      "Reviews: 159\n",
      "Size: 19M\n",
      "Installs: 10,000+\n",
      "Type: Free\n",
      "Price: 0\n",
      "Content Rating: Everyone\n",
      "Genres: Art & Design\n",
      "Last Updated: January 7, 2018\n",
      "Current Ver: 1.0.0\n",
      "Android Ver: 4.0.3 and up\n",
      "\n",
      "\n",
      "Number of columns:  13\n",
      "Number of rows:  10841\n",
      "Unique apps: 9660\n"
     ]
    }
   ],
   "source": [
    "google_play_data = explore_data(google_play_store)\n",
    "print(\"Unique apps: {}\".format(len(np.unique([row[0] for row in google_play_data[1:]]))))"
   ]
  },
  {
   "cell_type": "markdown",
   "metadata": {
    "collapsed": true
   },
   "source": [
    "## Scenarios:\n",
    "\n",
    "Assume that we need to build an English app which is free for users to download and use. Our revenue will come from the in-app ads. Thus, we need to attract a lot of users. The more users use the app, the more ads they engage with.\n",
    "\n",
    "Therefore, what we are interested in are: \n",
    "\n",
    "- Price:\n",
    "    - iOS: \"price\"\n",
    "    - Google Play: \"Price\"/ \"Type\" \n",
    "- The genre:\n",
    "    - iOS: \"prime_genre\"\n",
    "    - Google Play: \"Genres\"\n",
    "- Number of reviews:\n",
    "    - iOS: \"rating_count_tot\"\n",
    "    - Google Play: \"Reviews\"\n",
    "- Rating:\n",
    "    - iOS: \"user_rating\"\n",
    "    - Google Play: \"Rating\""
   ]
  },
  {
   "cell_type": "markdown",
   "metadata": {},
   "source": [
    "## Data Cleaning\n",
    "\n",
    "These datasets are scraped from the Internet. Therefore, due to several factors, it might include some errors in the dataset. Cleaning data before analyzing is always important to make sure the data we analyze is accurate.\n",
    "\n",
    "### Cleaning Duplicates:\n",
    "\n",
    "Each row in a dataset should represent for 1 unique application in the store. However, as you can see in the data exploration part above:\n",
    "- iOS: there are 7197 rows but only 7195 unique apps => There must be at least 1 app (with 2 duplicates) or 2 apps (each has one duplicate) in the dataset\n",
    "- Google Store: there are 9660 unique, but 10841 rows in the dataset. This means there must be 1181 rows are duplicates of the others. \n",
    "\n",
    "There are several techniques to deal with duplicates, but for simplicity, we can just remove them for now."
   ]
  },
  {
   "cell_type": "code",
   "execution_count": 7,
   "metadata": {
    "collapsed": true
   },
   "outputs": [],
   "source": [
    "def remove_duplicates(apps_data, column_index, header=True, sort_duplicates_callback=None, method=\"first\"):\n",
    "    \"\"\"\n",
    "    This function helps to remove the duplicates from the data. \n",
    "    The column which will be used to checked for duplicates is specified by the column_index\n",
    "    \n",
    "    Params:\n",
    "        apps_data (list): The dataset\n",
    "        column_index (int): Index of the column to check for duplicates\n",
    "        header (bool): default = True, if the dataset has the header or not. \n",
    "        sort_duplicates_callback (callback): a function which is used to sort the duplicates.\n",
    "        method (str): default = \"first\", current support: \"first\" or \"last\". Take the first or the last row for each duplicates\n",
    "    \"\"\"\n",
    "    # First, we sort the dataset using column_index\n",
    "    if header:\n",
    "        header = apps_data[0]\n",
    "        apps_data = apps_data[1:]\n",
    "    apps_data = sorted(apps_data, key= lambda row: row[column_index])\n",
    "    filtered_apps_data = []\n",
    "    current_check = None\n",
    "    temp_duplicates_list = []\n",
    "    \n",
    "    def append_to_list():\n",
    "        if method == \"first\":\n",
    "            filtered_apps_data.append(temp_duplicates_list[0])\n",
    "        elif method == \"last\":\n",
    "            filtered_apps_data.append(temp_duplicates_list[-1])\n",
    "        else:\n",
    "            raise NotImplementedError(\"Method \\\"{}\\\" is not supported\".format(method))\n",
    "        \n",
    "    for index, row in enumerate(apps_data):\n",
    "        if index == 0:\n",
    "            current_check = row[column_index]\n",
    "            temp_duplicates_list.append(row)\n",
    "            continue\n",
    "        if row[column_index] == current_check:\n",
    "            temp_duplicates_list.append(row)\n",
    "        else:\n",
    "            if sort_duplicates_callback is not None:\n",
    "                temp_duplicates_list = sorted(temp_duplicates_list, key=sort_duplicates_callback)\n",
    "            append_to_list()\n",
    "            temp_duplicates_list = [row]\n",
    "            current_check = row[column_index]\n",
    "        if index == len(apps_data) - 1:\n",
    "            append_to_list()\n",
    "            break\n",
    "    if header:\n",
    "        filtered_apps_data.insert(0, header)\n",
    "    return filtered_apps_data"
   ]
  },
  {
   "cell_type": "markdown",
   "metadata": {},
   "source": [
    "There are different criterias we can use to so"
   ]
  },
  {
   "cell_type": "code",
   "execution_count": 8,
   "metadata": {
    "collapsed": false
   },
   "outputs": [],
   "source": [
    "google_play_data_no_duplicates = remove_duplicates(google_play_data, 0, \n",
    "                                              sort_duplicates_callback=lambda row: row[3], method=\"last\")"
   ]
  },
  {
   "cell_type": "code",
   "execution_count": 9,
   "metadata": {
    "collapsed": false
   },
   "outputs": [
    {
     "name": "stdout",
     "output_type": "stream",
     "text": [
      "Unique Google Play Store apps: 9660\n"
     ]
    }
   ],
   "source": [
    "print(\"Unique Google Play Store apps: {}\".format(len(np.unique([row[0] for row in google_play_data_no_duplicates[1:]]))))"
   ]
  },
  {
   "cell_type": "code",
   "execution_count": 10,
   "metadata": {
    "collapsed": true
   },
   "outputs": [],
   "source": [
    "app_store_data_no_duplicates = remove_duplicates(app_store_data, 2)"
   ]
  },
  {
   "cell_type": "code",
   "execution_count": 11,
   "metadata": {
    "collapsed": false
   },
   "outputs": [
    {
     "name": "stdout",
     "output_type": "stream",
     "text": [
      "Unique App Store apps: 7195\n"
     ]
    }
   ],
   "source": [
    "print(\"Unique App Store apps: {}\".format(len(np.unique([row[0] for row in app_store_data_no_duplicates[1:]]))))"
   ]
  },
  {
   "cell_type": "markdown",
   "metadata": {},
   "source": [
    "You see that after removes the duplicates, we have exactly the same number of unique apps we explored above."
   ]
  },
  {
   "cell_type": "code",
   "execution_count": 12,
   "metadata": {
    "collapsed": true
   },
   "outputs": [],
   "source": [
    "def is_english(string, no_allowed_non_latin=3):\n",
    "    no_non_latin = 0\n",
    "    for c in string:\n",
    "        if ord(c) > 127:\n",
    "            no_non_latin +=1\n",
    "        if no_non_latin > no_allowed_non_latin:\n",
    "            return False\n",
    "    return True\n",
    "\n",
    "def get_price(price):\n",
    "    new_price = \"\"\n",
    "    for c in price:\n",
    "        if c.isdigit() or c in [\".\", \",\"]:\n",
    "            new_price += c\n",
    "    return float(new_price)"
   ]
  },
  {
   "cell_type": "code",
   "execution_count": 13,
   "metadata": {
    "collapsed": true
   },
   "outputs": [],
   "source": [
    "def remove_non_english_and_paid(apps_data, name_column_index,\n",
    "                               price_column_index, header=True):\n",
    "    new_apps_data = []\n",
    "    if header:\n",
    "        data = apps_data[1:]\n",
    "        new_apps_data.append(apps_data[0])\n",
    "    else:\n",
    "        data = apps_data[:]\n",
    "    for row in data:\n",
    "        try:\n",
    "            if is_english(row[name_column_index]) and get_price(row[price_column_index]) == 0:\n",
    "                new_apps_data.append(row)\n",
    "        except ValueError:\n",
    "            # Price format is not correct\n",
    "            continue\n",
    "    return new_apps_data\n",
    "        "
   ]
  },
  {
   "cell_type": "code",
   "execution_count": 14,
   "metadata": {
    "collapsed": false
   },
   "outputs": [],
   "source": [
    "free_english_android_apps = remove_non_english_and_paid(google_play_data_no_duplicates, 0, 7)\n",
    "free_english_ios_apps = remove_non_english_and_paid(app_store_data_no_duplicates, 2, 5)"
   ]
  },
  {
   "cell_type": "markdown",
   "metadata": {
    "collapsed": true
   },
   "source": [
    "## Analysis\n",
    "\n",
    "So we have finished some basic steps to clean the data and remove unnecessary entries for our analysis purposes. Now we have two datasets which include only the apps which are free and English language (not really English in our case, it should be called a Latin language).\n",
    "\n",
    "It now comes to the next step: analysis. Before doing the analysis, we have to first ask the questions why we want to analyze the data, what we want to get from the data or what we want to report to the customers?\n",
    "\n",
    "> Always ask questions\n",
    "\n",
    "### Questions:\n",
    "\n",
    "- What are the most common genres for Google Play/ App Store?\n",
    "- What are the most common genres which attract more users in both market?\n",
    "- What are the genres which have high average ratings?\n",
    "\n",
    "One thing we should remember is we do analysis to serve some purposes, and those purposes must be in form of questions. Let's do the analysis to answer the questions above.\n",
    "\n",
    "#### Most common genres\n",
    "\n",
    "To know what is the most common genres, we need first to calculate the frequency of each genres which are in the market"
   ]
  },
  {
   "cell_type": "code",
   "execution_count": 15,
   "metadata": {
    "collapsed": true
   },
   "outputs": [],
   "source": [
    "def frequency_calc(apps_data, column_index, header=True,\n",
    "                  return_tuple=True):\n",
    "    if header:\n",
    "        data = apps_data[1:]\n",
    "    else:\n",
    "        data = apps_data\n",
    "    freq_table = {}\n",
    "    for row in data:\n",
    "        val = row[column_index]\n",
    "        if val in freq_table:\n",
    "            freq_table[val] += 1\n",
    "        else:\n",
    "            freq_table[val] = 1\n",
    "    freq_table_percentage = {k: (v / len(data) * 100) for k, v in freq_table.items()}\n",
    "    if return_tuple:\n",
    "        return list(zip(freq_table_percentage.keys(), freq_table_percentage.values()))\n",
    "    return freq_table_percentage"
   ]
  },
  {
   "cell_type": "code",
   "execution_count": 16,
   "metadata": {
    "collapsed": false
   },
   "outputs": [],
   "source": [
    "android_apps_genre_freq_tuple = frequency_calc(free_english_android_apps, 1)\n",
    "ios_apps_genre_freq_tuple = frequency_calc(free_english_ios_apps, -5)"
   ]
  },
  {
   "cell_type": "code",
   "execution_count": 17,
   "metadata": {
    "collapsed": true
   },
   "outputs": [],
   "source": [
    "def sort_freq(freq_tuple):\n",
    "    return sorted(freq_tuple, key=lambda x: x[1], reverse=True)"
   ]
  },
  {
   "cell_type": "code",
   "execution_count": 18,
   "metadata": {
    "collapsed": false
   },
   "outputs": [],
   "source": [
    "android_apps_genre_freq_tuple = sort_freq(android_apps_genre_freq_tuple)\n",
    "ios_apps_genre_freq_tuple = sort_freq(ios_apps_genre_freq_tuple)"
   ]
  },
  {
   "cell_type": "code",
   "execution_count": 19,
   "metadata": {
    "collapsed": false
   },
   "outputs": [
    {
     "name": "stdout",
     "output_type": "stream",
     "text": [
      "FAMILY: 18.968630106070865\n",
      "GAME: 9.68178740690589\n",
      "TOOLS: 8.451816745655607\n",
      "BUSINESS: 4.5926427443015125\n",
      "LIFESTYLE: 3.9043105393816293\n",
      "PRODUCTIVITY: 3.8930264048747465\n",
      "FINANCE: 3.7011961182577298\n",
      "MEDICAL: 3.5206499661475967\n",
      "SPORTS: 3.39652448657188\n",
      "PERSONALIZATION: 3.3175355450236967\n",
      "COMMUNICATION: 3.238546603475513\n",
      "HEALTH_AND_FITNESS: 3.080568720379147\n",
      "PHOTOGRAPHY: 2.945159106296547\n",
      "NEWS_AND_MAGAZINES: 2.798465357707064\n",
      "SOCIAL: 2.663055743624464\n",
      "TRAVEL_AND_LOCAL: 2.335815842924848\n",
      "SHOPPING: 2.2455427668697814\n",
      "BOOKS_AND_REFERENCE: 2.143985556307831\n",
      "DATING: 1.8618821936357481\n",
      "VIDEO_PLAYERS: 1.7941773865944481\n",
      "MAPS_AND_NAVIGATION: 1.399232678853532\n",
      "FOOD_AND_DRINK: 1.2412547957571656\n",
      "EDUCATION: 1.162265854208982\n",
      "ENTERTAINMENT: 0.9478672985781991\n",
      "LIBRARIES_AND_DEMO: 0.9365831640713158\n",
      "AUTO_AND_VEHICLES: 0.9252990295644324\n",
      "HOUSE_AND_HOME: 0.8237418190024826\n",
      "WEATHER: 0.8011735499887158\n",
      "EVENTS: 0.7109004739336493\n",
      "PARENTING: 0.6544798013992327\n",
      "ART_AND_DESIGN: 0.6431956668923494\n",
      "COMICS: 0.6206273978785828\n",
      "BEAUTY: 0.598059128864816\n"
     ]
    }
   ],
   "source": [
    "for genre, percentage in android_apps_genre_freq_tuple:\n",
    "    print(\"{}: {}\".format(genre, percentage))"
   ]
  },
  {
   "cell_type": "code",
   "execution_count": 20,
   "metadata": {
    "collapsed": false
   },
   "outputs": [
    {
     "name": "stdout",
     "output_type": "stream",
     "text": [
      "Games: 58.13664596273293\n",
      "Entertainment: 7.888198757763975\n",
      "Photo & Video: 4.968944099378882\n",
      "Education: 3.6645962732919255\n",
      "Social Networking: 3.291925465838509\n",
      "Shopping: 2.608695652173913\n",
      "Utilities: 2.515527950310559\n",
      "Sports: 2.142857142857143\n",
      "Music: 2.049689440993789\n",
      "Health & Fitness: 2.018633540372671\n",
      "Productivity: 1.7391304347826086\n",
      "Lifestyle: 1.5838509316770186\n",
      "News: 1.3354037267080745\n",
      "Travel: 1.2422360248447204\n",
      "Finance: 1.1180124223602486\n",
      "Weather: 0.8695652173913043\n",
      "Food & Drink: 0.8074534161490683\n",
      "Reference: 0.5590062111801243\n",
      "Business: 0.5279503105590062\n",
      "Book: 0.43478260869565216\n",
      "Navigation: 0.18633540372670807\n",
      "Medical: 0.18633540372670807\n",
      "Catalogs: 0.12422360248447205\n"
     ]
    }
   ],
   "source": [
    "for genre, percentage in ios_apps_genre_freq_tuple:\n",
    "    print(\"{}: {}\".format(genre, percentage))"
   ]
  },
  {
   "cell_type": "markdown",
   "metadata": {},
   "source": [
    "So we have the frequency (in percentage) for each genre in both market, which is already sorted descendantly.\n",
    "\n",
    "We can see that, the category \"FAMILY\" is the most popular category in Android market, while \"Games\" is the most popular one in iOS market.\n",
    "\n",
    "We can also visualize the frequency using a bar chart.\n",
    "\n",
    "> Pie chart may be a better choice to show percentages, but due to we have too many categories/ genres, bar chart will show better visualization"
   ]
  },
  {
   "cell_type": "code",
   "execution_count": 21,
   "metadata": {
    "collapsed": false
   },
   "outputs": [
    {
     "data": {
      "image/png": "[encoded data removed]",
      "text/plain": [
       "<matplotlib.figure.Figure at 0x7f07b6fc25c0>"
      ]
     },
     "metadata": {},
     "output_type": "display_data"
    }
   ],
   "source": [
    "# Plot the bar chart to show the for the android app:\n",
    "plt.figure(figsize=(20, 10))\n",
    "ind = np.arange(len(android_apps_genre_freq_tuple)) \n",
    "percentage = []\n",
    "labels = []\n",
    "for k, v in android_apps_genre_freq_tuple:\n",
    "    percentage.append(v)\n",
    "    labels.append(k)\n",
    "# We only show the first 5 categories\n",
    "plt.bar(ind[:5], height=percentage[:5], width=0.35);\n",
    "plt.yticks(np.arange(0, 50, 10))\n",
    "plt.xticks(ind[:5], labels[:5]);"
   ]
  },
  {
   "cell_type": "markdown",
   "metadata": {
    "collapsed": true
   },
   "source": [
    "According to the result shown above, in iOS market, the apps designed for entertainment seem dominate the other apps categories, while in the Android market, the categories seem more balancing. Please note that this result focuses only in the Free and English apps, thus, this might not be correct if we consider all the apps in the market.\n",
    "\n",
    "#### Most common genres which attract more users\n",
    "\n",
    "Now we want to understand which app categories attract more users to install the app in the market. We can get this from the column \"Installs\" (index=5) in Google Play store data. However, there seems to be no such information in the App Store data, we can consider using the number of users who rated the app in \"rating_count_tot\" (index=6) in app store data.\n",
    "\n",
    "Let's first analyze the iOS market:"
   ]
  },
  {
   "cell_type": "code",
   "execution_count": 34,
   "metadata": {
    "collapsed": false,
    "scrolled": false
   },
   "outputs": [
    {
     "name": "stdout",
     "output_type": "stream",
     "text": [
      "Navigation: 86090.33333333333\n",
      "Reference: 74942.11111111111\n",
      "Social Networking: 71548.34905660378\n",
      "Music: 57326.530303030304\n",
      "Weather: 52279.892857142855\n",
      "Book: 39758.5\n",
      "Food & Drink: 33333.92307692308\n",
      "Finance: 31467.944444444445\n",
      "Photo & Video: 28441.54375\n",
      "Travel: 28243.8\n",
      "Shopping: 26919.690476190477\n",
      "Health & Fitness: 23298.015384615384\n",
      "Sports: 23008.898550724636\n",
      "Games: 22812.92467948718\n",
      "News: 21248.023255813954\n",
      "Productivity: 21028.410714285714\n",
      "Utilities: 18684.456790123455\n",
      "Lifestyle: 16485.764705882353\n",
      "Entertainment: 14029.830708661417\n",
      "Business: 7491.117647058823\n",
      "Education: 7003.983050847458\n",
      "Catalogs: 4004.0\n",
      "Medical: 612.0\n"
     ]
    }
   ],
   "source": [
    "# Average number of users rated different Genres in App Store data\n",
    "user_ratings_per_genre = {}\n",
    "genre_freq = {}\n",
    "for row in free_english_ios_apps[1:]:\n",
    "    genre = row[-5]\n",
    "    number_of_ratings = int(row[6])\n",
    "    if genre in user_ratings_per_genre:\n",
    "        genre_freq[genre] += 1\n",
    "        user_ratings_per_genre[genre] += number_of_ratings\n",
    "    else:\n",
    "        genre_freq[genre] = 1\n",
    "        user_ratings_per_genre[genre] = number_of_ratings\n",
    "user_ratings_per_genre = {k: v/ genre_freq[k] for k, v in user_ratings_per_genre.items()}\n",
    "for genre, tot_ratings in sort_freq(list(zip(user_ratings_per_genre.keys(), user_ratings_per_genre.values()))):\n",
    "    print(\"{}: {}\".format(genre, tot_ratings))"
   ]
  },
  {
   "cell_type": "markdown",
   "metadata": {},
   "source": [
    "As we can see, the navigation category attracts the most users to rate the app. But is this result correct? Let's dig deeper.\n",
    "\n",
    "Let's first check some apps in the NAVIGATION category:"
   ]
  },
  {
   "cell_type": "code",
   "execution_count": 37,
   "metadata": {
    "collapsed": false
   },
   "outputs": [
    {
     "name": "stdout",
     "output_type": "stream",
     "text": [
      "CoPilot GPS – Car Navigation & Offline Maps - 3582\n",
      "Geocaching® - 12811\n",
      "Google Maps - Navigation & Transit - 154911\n",
      "ImmobilienScout24: Real Estate Search in Germany - 187\n",
      "Railway Route Search - 5\n",
      "Waze - GPS Navigation, Maps & Real-time Traffic - 345046\n"
     ]
    }
   ],
   "source": [
    "for row in free_english_ios_apps[1:]:\n",
    "    if row[-5] == \"Navigation\":\n",
    "        print(\"{} - {}\".format(row[2], row[6]))"
   ]
  },
  {
   "cell_type": "markdown",
   "metadata": {},
   "source": [
    "As we can see, there are only 6 apps in this category, but this figure is heavily influenced by Waze and Google Maps, which have close to half a million user reviews together.\n",
    "\n",
    "We can also check for other categories also.\n",
    "\n",
    "**Let's check the Google Play Store**"
   ]
  },
  {
   "cell_type": "code",
   "execution_count": 41,
   "metadata": {
    "collapsed": false
   },
   "outputs": [
    {
     "name": "stdout",
     "output_type": "stream",
     "text": [
      "COMMUNICATION: 38456119.167247385\n",
      "VIDEO_PLAYERS: 24727872.452830188\n",
      "SOCIAL: 23253652.127118643\n",
      "PHOTOGRAPHY: 17805627.643678162\n",
      "PRODUCTIVITY: 16787331.344927534\n",
      "GAME: 15567446.911421912\n",
      "TRAVEL_AND_LOCAL: 13984077.710144928\n",
      "ENTERTAINMENT: 11719761.904761905\n",
      "TOOLS: 10682301.033377837\n",
      "NEWS_AND_MAGAZINES: 9549178.467741935\n",
      "BOOKS_AND_REFERENCE: 8767811.894736841\n",
      "SHOPPING: 7036877.311557789\n",
      "PERSONALIZATION: 5201482.6122448975\n",
      "WEATHER: 5074486.197183099\n",
      "HEALTH_AND_FITNESS: 4188821.9853479853\n",
      "MAPS_AND_NAVIGATION: 4056941.7741935486\n",
      "FAMILY: 3697201.481261154\n",
      "SPORTS: 3638640.1428571427\n",
      "ART_AND_DESIGN: 1986335.0877192982\n",
      "FOOD_AND_DRINK: 1924897.7363636363\n",
      "EDUCATION: 1828640.7766990291\n",
      "BUSINESS: 1712290.1474201474\n",
      "LIFESTYLE: 1437816.2687861272\n",
      "FINANCE: 1387692.475609756\n",
      "HOUSE_AND_HOME: 1331540.5616438356\n",
      "DATING: 854028.8303030303\n",
      "COMICS: 817657.2727272727\n",
      "AUTO_AND_VEHICLES: 647317.8170731707\n",
      "LIBRARIES_AND_DEMO: 638503.734939759\n",
      "PARENTING: 542603.6206896552\n",
      "BEAUTY: 513151.88679245283\n",
      "EVENTS: 253542.22222222222\n",
      "MEDICAL: 120616.48717948717\n"
     ]
    }
   ],
   "source": [
    "# Average number of users rated different Genres in App Store data\n",
    "user_install_per_genre = {}\n",
    "genre_freq = {}\n",
    "for row in free_english_android_apps[1:]:\n",
    "    genre = row[1]\n",
    "    number_of_installs = row[5]\n",
    "    number_of_installs = number_of_installs.replace(',', '')\n",
    "    number_of_installs = number_of_installs.replace('+', '')\n",
    "    number_of_installs = int(number_of_installs)\n",
    "    if genre in user_install_per_genre:\n",
    "        genre_freq[genre] += 1\n",
    "        user_install_per_genre[genre] += number_of_installs\n",
    "    else:\n",
    "        genre_freq[genre] = 1\n",
    "        user_install_per_genre[genre] = number_of_installs\n",
    "user_install_per_genre = {k: v/ genre_freq[k] for k, v in user_install_per_genre.items()}\n",
    "for genre, tot_installs in sort_freq(list(zip(user_install_per_genre.keys(), user_install_per_genre.values()))):\n",
    "    print(\"{}: {}\".format(genre, tot_installs))"
   ]
  },
  {
   "cell_type": "markdown",
   "metadata": {
    "collapsed": true
   },
   "source": [
    "We can also dig deeper into each categories to check if there is any app skews the result. "
   ]
  },
  {
   "cell_type": "code",
   "execution_count": null,
   "metadata": {
    "collapsed": true
   },
   "outputs": [],
   "source": []
  }
 ],
 "metadata": {
  "kernelspec": {
   "display_name": "Python 3",
   "language": "python",
   "name": "python3"
  },
  "language_info": {
   "codemirror_mode": {
    "name": "ipython",
    "version": 3
   },
   "file_extension": ".py",
   "mimetype": "text/x-python",
   "name": "python",
   "nbconvert_exporter": "python",
   "pygments_lexer": "ipython3",
   "version": "3.4.3"
  }
 },
 "nbformat": 4,
 "nbformat_minor": 2
}
